{
  "cells": [
    {
      "cell_type": "markdown",
      "metadata": {
        "id": "view-in-github",
        "colab_type": "text"
      },
      "source": [
        "<a href=\"https://colab.research.google.com/github/Evelyn881025/2025_Agent_club/blob/main/R4/R4_Planning_HW.ipynb\" target=\"_parent\"><img src=\"https://colab.research.google.com/assets/colab-badge.svg\" alt=\"Open In Colab\"/></a>"
      ]
    },
    {
      "cell_type": "markdown",
      "metadata": {
        "id": "TG12VsuLzE9d"
      },
      "source": [
        "# 非程式題"
      ]
    },
    {
      "cell_type": "markdown",
      "metadata": {
        "id": "2aM7kAEFzT5a"
      },
      "source": [
        "1. 如果 Agent 沒有 planning 能力會有什麼缺點？\n",
        "\n",
        "2. planning 在實務應用上會碰到什麼困難？"
      ]
    },
    {
      "cell_type": "markdown",
      "metadata": {
        "id": "HQPwZnj7y_xe"
      },
      "source": [
        "# 程式題"
      ]
    },
    {
      "cell_type": "code",
      "execution_count": null,
      "metadata": {
        "id": "fBy65z3sDzQP",
        "outputId": "1aa656c5-9d5a-47e4-9058-76404ac9355a",
        "colab": {
          "base_uri": "https://localhost:8080/"
        }
      },
      "outputs": [
        {
          "output_type": "stream",
          "name": "stdout",
          "text": [
            "\u001b[2K     \u001b[90m━━━━━━━━━━━━━━━━━━━━━━━━━━━━━━━━━━━━━━━━\u001b[0m \u001b[32m43.7/43.7 kB\u001b[0m \u001b[31m2.9 MB/s\u001b[0m eta \u001b[36m0:00:00\u001b[0m\n",
            "\u001b[2K   \u001b[90m━━━━━━━━━━━━━━━━━━━━━━━━━━━━━━━━━━━━━━━━\u001b[0m \u001b[32m143.7/143.7 kB\u001b[0m \u001b[31m11.4 MB/s\u001b[0m eta \u001b[36m0:00:00\u001b[0m\n",
            "\u001b[2K   \u001b[90m━━━━━━━━━━━━━━━━━━━━━━━━━━━━━━━━━━━━━━━━\u001b[0m \u001b[32m70.4/70.4 kB\u001b[0m \u001b[31m5.5 MB/s\u001b[0m eta \u001b[36m0:00:00\u001b[0m\n",
            "\u001b[2K   \u001b[90m━━━━━━━━━━━━━━━━━━━━━━━━━━━━━━━━━━━━━━━━\u001b[0m \u001b[32m2.5/2.5 MB\u001b[0m \u001b[31m77.7 MB/s\u001b[0m eta \u001b[36m0:00:00\u001b[0m\n",
            "\u001b[2K   \u001b[90m━━━━━━━━━━━━━━━━━━━━━━━━━━━━━━━━━━━━━━━━\u001b[0m \u001b[32m43.8/43.8 kB\u001b[0m \u001b[31m3.1 MB/s\u001b[0m eta \u001b[36m0:00:00\u001b[0m\n",
            "\u001b[2K   \u001b[90m━━━━━━━━━━━━━━━━━━━━━━━━━━━━━━━━━━━━━━━━\u001b[0m \u001b[32m50.1/50.1 kB\u001b[0m \u001b[31m3.9 MB/s\u001b[0m eta \u001b[36m0:00:00\u001b[0m\n",
            "\u001b[2K   \u001b[90m━━━━━━━━━━━━━━━━━━━━━━━━━━━━━━━━━━━━━━━━\u001b[0m \u001b[32m45.2/45.2 kB\u001b[0m \u001b[31m3.5 MB/s\u001b[0m eta \u001b[36m0:00:00\u001b[0m\n",
            "\u001b[2K   \u001b[90m━━━━━━━━━━━━━━━━━━━━━━━━━━━━━━━━━━━━━━━━\u001b[0m \u001b[32m50.9/50.9 kB\u001b[0m \u001b[31m3.7 MB/s\u001b[0m eta \u001b[36m0:00:00\u001b[0m\n",
            "\u001b[2K   \u001b[90m━━━━━━━━━━━━━━━━━━━━━━━━━━━━━━━━━━━━━━━━\u001b[0m \u001b[32m216.5/216.5 kB\u001b[0m \u001b[31m16.4 MB/s\u001b[0m eta \u001b[36m0:00:00\u001b[0m\n",
            "\u001b[?25h"
          ]
        }
      ],
      "source": [
        "!pip install --quiet -U langgraph langchain-openai langchain-community tavily-python"
      ]
    },
    {
      "cell_type": "markdown",
      "metadata": {
        "id": "D-QgftDDqfq2"
      },
      "source": [
        "## 將下列的小工具加進你的 plan-and-execute agent 裡面，使得輸出類似的結果\n",
        "\n",
        "> 小小 hint：tutorial 照摳就好好🙂，或是大家可以自己寫一些 function 或是找一些外部 api 工具，玩一下看看有什麼新花樣"
      ]
    },
    {
      "cell_type": "code",
      "source": [
        "import os\n",
        "from google.colab import userdata\n",
        "\n",
        "os.environ[\"OPENAI_API_KEY\"] = userdata.get('OPENAI_API_KEY')\n",
        "os.environ[\"TAVILY_API_KEY\"] = userdata.get('TAVILY_API_KEY')"
      ],
      "metadata": {
        "id": "mWGsa0vBFMDh"
      },
      "execution_count": null,
      "outputs": []
    },
    {
      "cell_type": "markdown",
      "source": [
        "| 工具名稱             | 功能                                                    |\n",
        "|----------------------|---------------------------------------------------------|\n",
        "| `TavilySearchResults` | 透過 Tavily API 搜尋最多 3 筆最新網頁或新聞              |\n",
        "| `getMainBuyAndSale`   | 爬取 PChome 股市網站上的台積電報價表格資訊              |\n"
      ],
      "metadata": {
        "id": "BUIjT2jHmMZe"
      }
    },
    {
      "cell_type": "code",
      "execution_count": null,
      "metadata": {
        "id": "dVfBmy8iqBFN"
      },
      "outputs": [],
      "source": [
        "import requests\n",
        "import pandas as pd\n",
        "from langchain_core.tools import tool\n",
        "from langchain_community.tools.tavily_search import TavilySearchResults\n",
        "@tool\n",
        "def getMainBuyAndSale() :\n",
        "  \"\"\"台積電股價及其他相關資訊\"\"\"\n",
        "  url = f'https://pchome.megatime.com.tw/stock/sto1/ock4/sid' + '2330' + '.html'\n",
        "  payloads = {'is_check': '1'}\n",
        "  resp = requests.request(method='POST', url=url, data=payloads)\n",
        "  data = pd.read_html(resp.text)\n",
        "\n",
        "  return data[0].to_string(index=False)\n",
        "\n",
        "tools = [\n",
        "    TavilySearchResults(max_results=3),\n",
        "    getMainBuyAndSale\n",
        "    ]"
      ]
    },
    {
      "cell_type": "code",
      "source": [
        "from langchain_openai import ChatOpenAI\n",
        "from langgraph.prebuilt import create_react_agent\n",
        "\n",
        "# Choose the LLM that will drive the agent\n",
        "llm = ChatOpenAI(\n",
        "    model=\"gpt-4o-mini-2024-07-18\",\n",
        "    temperature=0\n",
        "    )\n",
        "\n",
        "prompt = \"你是一個專業等級的任務執行器，用來完美執行任務計劃。\"\n",
        "agent_executor = create_react_agent(\n",
        "    llm,\n",
        "    tools,\n",
        "    prompt=prompt,\n",
        "    # debug=True\n",
        "    )"
      ],
      "metadata": {
        "id": "51ydiY8giKhQ"
      },
      "execution_count": null,
      "outputs": []
    },
    {
      "cell_type": "code",
      "source": [
        "from IPython.display import Image, display\n",
        "\n",
        "display(Image(agent_executor.get_graph(xray=True).draw_mermaid_png()))\n"
      ],
      "metadata": {
        "colab": {
          "base_uri": "https://localhost:8080/",
          "height": 266
        },
        "id": "sYGrOBFUiO1X",
        "outputId": "c232e183-e225-4841-f2e9-18080ebdf8b9"
      },
      "execution_count": null,
      "outputs": [
        {
          "output_type": "display_data",
          "data": {
            "image/png": "[encoded data removed]",
            "text/plain": [
              "<IPython.core.display.Image object>"
            ]
          },
          "metadata": {}
        }
      ]
    },
    {
      "cell_type": "code",
      "source": [
        "import operator\n",
        "from typing import Annotated, List, Tuple\n",
        "from typing_extensions import TypedDict\n",
        "\n",
        "\n",
        "class PlanExecute(TypedDict):\n",
        "    input: str\n",
        "    plan: List[str] # 待執行的步驟\n",
        "    past_steps: Annotated[List[Tuple], operator.add] # 執行步驟後的結果\n",
        "    response: str # 最終的問題回覆結果"
      ],
      "metadata": {
        "id": "n7esKjg_mhM9"
      },
      "execution_count": null,
      "outputs": []
    },
    {
      "cell_type": "code",
      "source": [
        "from langchain_core.prompts import ChatPromptTemplate\n",
        "from pydantic import BaseModel, Field\n",
        "\n",
        "class Plan(BaseModel):\n",
        "    \"\"\"未來要遵循的計劃\"\"\"\n",
        "\n",
        "    steps: List[str] = Field(description=\"不同的步驟，應按順序排列\")\n",
        "\n",
        "planner_prompt = ChatPromptTemplate.from_messages(\n",
        "    [\n",
        "        (\n",
        "            \"system\",\n",
        "            \"\"\"\n",
        "            你是一個專業等級的任務規劃器。\n",
        "            請根據指定目標，擬定一份簡潔的逐步執行計畫。\n",
        "            此計畫應包含一系列獨立的任務，每個任務若正確執行，將逐步導向正確的答案。\n",
        "            請避免加入任何多餘的步驟。\n",
        "            最終步驟的執行結果即為最終答案。\n",
        "            請確保每個步驟皆包含完成所需的所有資訊，不得跳過任何必要步驟。\n",
        "            \"\"\",\n",
        "        ),\n",
        "        (\"placeholder\", \"{messages}\"),\n",
        "    ]\n",
        ")"
      ],
      "metadata": {
        "id": "3xEiH9bxmjKv"
      },
      "execution_count": null,
      "outputs": []
    },
    {
      "cell_type": "code",
      "source": [
        "\n",
        "planner = planner_prompt | ChatOpenAI(\n",
        "    model=\"gpt-4o-mini\",\n",
        "    temperature=0\n",
        ").with_structured_output(Plan)\n"
      ],
      "metadata": {
        "id": "g4Y3eMQMmlJU"
      },
      "execution_count": null,
      "outputs": []
    },
    {
      "cell_type": "code",
      "source": [
        "planner.invoke(\n",
        "    {\n",
        "        \"messages\": [\n",
        "            (\"user\", \"今天適合將新台幣兌換成日圓嗎？只根據今天日期及今天過去30天的平均匯率做判斷。\")\n",
        "        ]\n",
        "    }\n",
        ")"
      ],
      "metadata": {
        "colab": {
          "base_uri": "https://localhost:8080/"
        },
        "id": "5OVdEvh7mrO1",
        "outputId": "5e6d6ee4-dca0-490e-f9c0-648dbf01b4c7"
      },
      "execution_count": null,
      "outputs": [
        {
          "output_type": "execute_result",
          "data": {
            "text/plain": [
              "Plan(steps=['查詢今天的日期。', '查詢今天的台幣兌日圓匯率。', '查詢過去30天的台幣兌日圓匯率數據。', '計算過去30天的平均匯率。', '比較今天的匯率與過去30天的平均匯率。', '如果今天的匯率低於平均匯率，則適合兌換；如果高於平均匯率，則不適合兌換。'])"
            ]
          },
          "metadata": {},
          "execution_count": 50
        }
      ]
    },
    {
      "cell_type": "code",
      "source": [
        "from typing import Union\n",
        "\n",
        "\n",
        "class Response(BaseModel):\n",
        "    \"\"\"回應使用者的內容\"\"\"\n",
        "\n",
        "    response: str\n",
        "\n",
        "\n",
        "class Act(BaseModel):\n",
        "    \"\"\"要執行的動作\"\"\"\n",
        "\n",
        "    action: Union[Response, Plan] = Field(\n",
        "        description=\"要執行的動作： 若要回應使用者，請使用'Response'。\"\n",
        "        \"若需進一步使用工具以取得答案，請使用'Plan'。\"\n",
        "    )\n",
        "\n",
        "replanner_prompt = ChatPromptTemplate.from_template(\n",
        "    \"\"\"\n",
        "    你是一個專業等級的任務規劃器，負責根據任務目標、已完成步驟與原始計畫，調整剩餘的執行計畫。\n",
        "\n",
        "    請根據本次任務目標，擬定一份簡潔、有效率的執行計畫。計畫應包含一系列明確且獨立的步驟，每個步驟皆可由代理人執行，且能逐步導向正確的最終答案。\n",
        "\n",
        "    **請遵循以下規則：**\n",
        "    - 僅列出尚未完成且仍需執行的步驟。\n",
        "    - 不得重複列出已執行的步驟，特別是最近已完成過一次以上的項目。\n",
        "    - 每個步驟應包含完成任務所需的所有資訊，不能跳過必要內容。\n",
        "    - 若你已取得足夠資訊，能直接做出最終判斷，請直接使用 `Response` 回覆使用者，而非重新規劃 `Plan`。\n",
        "    - 若仍需進一步執行工具或分析資料，請僅補上剩餘計畫。\n",
        "\n",
        "    ---\n",
        "\n",
        "    本次任務目標：\n",
        "    {input}\n",
        "\n",
        "    原始計畫：\n",
        "    {plan}\n",
        "\n",
        "    已執行的步驟與結果：\n",
        "    {past_steps}\n",
        "\n",
        "    請回傳下一步動作（action）：\n",
        "    - 若可直接回覆使用者，請產出一段明確且完整的 `Response`。\n",
        "    - 若仍需進一步執行任務，請產出新的 `Plan`（不包含已執行步驟）。\n",
        "\n",
        "    你應避免讓代理人陷入無限迴圈，請務必依據進度判斷是否該結束流程。\n",
        "    \"\"\"\n",
        "    )\n"
      ],
      "metadata": {
        "id": "d2lhjEzRm3FM"
      },
      "execution_count": null,
      "outputs": []
    },
    {
      "cell_type": "code",
      "source": [
        "replanner = replanner_prompt | ChatOpenAI(\n",
        "    model=\"gpt-4o-mini\",\n",
        "    temperature=0\n",
        ").with_structured_output(Act)"
      ],
      "metadata": {
        "id": "9EOMpdFWm5e0"
      },
      "execution_count": null,
      "outputs": []
    },
    {
      "cell_type": "code",
      "source": [
        "from langgraph.graph import END\n",
        "\n",
        "\n",
        "# 執行計劃中的第一個步驟\n",
        "async def execute_step(state: PlanExecute):\n",
        "    plan = state[\"plan\"]\n",
        "    # 將所有步驟編號整理成文字（用於提示）\n",
        "    plan_str = \"\\n\".join(f\"{i+1}. {step}\" for i, step in enumerate(plan))\n",
        "    task = plan[0] # 抓出第一個尚未執行的步驟\n",
        "    task_formatted = f\"\"\"針對以下計劃：{plan_str}\\n\\n你的任務是執行 step {1}, {task}.\"\"\"\n",
        "\n",
        "    # 呼叫執行器執行該步驟\n",
        "    agent_response = await agent_executor.ainvoke(\n",
        "        {\"messages\": [(\"user\", task_formatted)]}\n",
        "    )\n",
        "\n",
        "    # 回傳本次執行結果（步驟與回應）\n",
        "    return {\n",
        "        \"past_steps\": [(task, agent_response[\"messages\"][-1].content)],\n",
        "    }\n",
        "\n",
        "# 初始規劃流程\n",
        "async def plan_step(state: PlanExecute):\n",
        "    plan = await planner.ainvoke({\"messages\": [(\"user\", state[\"input\"])]})\n",
        "    return {\"plan\": plan.steps}\n",
        "\n",
        "# 根據已完成的步驟與整體輸入，更新後續步驟或直接產生答案。\n",
        "async def replan_step(state: PlanExecute):\n",
        "    # 將已執行的一個步驟從 plan 中移除\n",
        "    new_plan = state[\"plan\"][1:]\n",
        "\n",
        "    # 將更新後的 state 傳入 replanner\n",
        "    replanner_input = {\n",
        "        \"input\": state[\"input\"],\n",
        "        \"plan\": new_plan,\n",
        "        \"past_steps\": state[\"past_steps\"],\n",
        "    }\n",
        "    output = await replanner.ainvoke(replanner_input)\n",
        "\n",
        "    if isinstance(output.action, Response):\n",
        "        return {\"response\": output.action.response}\n",
        "    else:\n",
        "        return {\"plan\": output.action.steps}\n",
        "\n",
        "# 檢查是否已經產生最終回應，決定是否結束流程\n",
        "def should_end(state: PlanExecute):\n",
        "    if \"response\" in state and state[\"response\"]:\n",
        "        return END\n",
        "    else:\n",
        "        return \"executor\""
      ],
      "metadata": {
        "id": "vj_of3XDm9Fd"
      },
      "execution_count": null,
      "outputs": []
    },
    {
      "cell_type": "code",
      "source": [
        "from langgraph.graph import StateGraph, START\n",
        "\n",
        "graph_builder = StateGraph(PlanExecute)\n",
        "\n",
        "graph_builder.add_node(\"planner\", plan_step) # 新增規劃器節點\n",
        "graph_builder.add_node(\"executor\", execute_step) # 新增執行器節點\n",
        "graph_builder.add_node(\"replanner\", replan_step) # 新增重新規劃器節點\n",
        "\n",
        "graph_builder.add_edge(START, \"planner\")\n",
        "graph_builder.add_edge(\"planner\", \"executor\") # 將規劃器與執行器連接\n",
        "graph_builder.add_edge(\"executor\", \"replanner\") # 將執行器與重新規劃器連接\n",
        "\n",
        "graph_builder.add_conditional_edges(\n",
        "    \"replanner\",\n",
        "    should_end,\n",
        "    [\"executor\", END],\n",
        ")\n",
        "\n",
        "graph = graph_builder.compile()"
      ],
      "metadata": {
        "id": "vc_Cq518m_U1"
      },
      "execution_count": null,
      "outputs": []
    },
    {
      "cell_type": "code",
      "source": [
        "from IPython.display import Image, display\n",
        "\n",
        "display(Image(graph.get_graph(xray=True).draw_mermaid_png()))\n"
      ],
      "metadata": {
        "colab": {
          "base_uri": "https://localhost:8080/",
          "height": 697
        },
        "id": "Ay2KhhoinBEU",
        "outputId": "aa263b14-172d-4859-a41f-44c868fcf243"
      },
      "execution_count": null,
      "outputs": [
        {
          "output_type": "display_data",
          "data": {
            "image/png": "[encoded data removed]",
            "text/plain": [
              "<IPython.core.display.Image object>"
            ]
          },
          "metadata": {}
        }
      ]
    },
    {
      "cell_type": "code",
      "source": [
        "from langchain_core.callbacks.base import BaseCallbackHandler\n",
        "\n",
        "class PrintToolNameHandler(BaseCallbackHandler):\n",
        "    def on_tool_start(self, serialized_tool: dict, input_str, **kwargs):\n",
        "        tool_name = serialized_tool.get(\"name\", \"\")\n",
        "        print(f\"[Tool name] {tool_name}\")"
      ],
      "metadata": {
        "id": "IXb1jE46nD9b"
      },
      "execution_count": null,
      "outputs": []
    },
    {
      "cell_type": "code",
      "execution_count": null,
      "metadata": {
        "colab": {
          "base_uri": "https://localhost:8080/"
        },
        "id": "2uMYMqy8o8Yy",
        "outputId": "fee719bc-ddc6-4547-e5f4-3c320361808f"
      },
      "outputs": [
        {
          "output_type": "stream",
          "name": "stdout",
          "text": [
            "[plan]\n",
            "1. 查詢台積電的最新股價和市場趨勢。\n",
            "2. 分析台積電的財報和近期業績表現。\n",
            "3. 檢視相關新聞和市場分析師的評價。\n",
            "4. 考慮整體股市的走勢和經濟指標。\n",
            "5. 根據以上資訊評估進場的風險和潛在收益。\n",
            "6. 做出是否進場的決策。\n",
            "\n",
            "\n",
            "[Tool name] getMainBuyAndSale\n"
          ]
        },
        {
          "output_type": "stream",
          "name": "stderr",
          "text": [
            "/tmp/ipython-input-44-2297184055.py:11: FutureWarning: Passing literal html to 'read_html' is deprecated and will be removed in a future version. To read from a literal string, wrap it in a 'StringIO' object.\n",
            "  data = pd.read_html(resp.text)\n"
          ]
        },
        {
          "output_type": "stream",
          "name": "stdout",
          "text": [
            "[past_steps]\n",
            "查詢台積電的最新股價和市場趨勢。\n",
            "台積電的最新股價資訊如下：\n",
            "\n",
            "- **最新股價**: 1060.0\n",
            "- **漲跌**: -20.0\n",
            "- **成交張數**: 32,327\n",
            "- **買價**: 1065.0\n",
            "- **買量**: 868\n",
            "- **賣價**: 1075.0\n",
            "- **賣量**: 303\n",
            "- **開盤價**: 1080.0\n",
            "- **最高價**: 1080.0\n",
            "- **最低價**: 1060.0\n",
            "- **昨收**: 1080.0\n",
            "\n",
            "這些數據顯示台積電的股價目前有所下跌，並且成交量相對活躍。接下來可以進行下一步的分析。\n",
            "\n",
            "\n",
            "[plan]\n",
            "1. 分析台積電的財報和近期業績表現。\n",
            "2. 檢視相關新聞和市場分析師的評價。\n",
            "3. 考慮整體股市的走勢和經濟指標。\n",
            "4. 根據以上資訊評估進場的風險和潛在收益。\n",
            "5. 做出是否進場的決策。\n",
            "\n",
            "\n",
            "[Tool name] getMainBuyAndSale\n"
          ]
        },
        {
          "output_type": "stream",
          "name": "stderr",
          "text": [
            "/tmp/ipython-input-44-2297184055.py:11: FutureWarning: Passing literal html to 'read_html' is deprecated and will be removed in a future version. To read from a literal string, wrap it in a 'StringIO' object.\n",
            "  data = pd.read_html(resp.text)\n"
          ]
        },
        {
          "output_type": "stream",
          "name": "stdout",
          "text": [
            "[past_steps]\n",
            "分析台積電的財報和近期業績表現。\n",
            "台積電的近期業績表現如下：\n",
            "\n",
            "- **漲跌**: -20.0\n",
            "- **成交張數**: 32,327\n",
            "- **買價**: 1060.0\n",
            "- **買量**: 868\n",
            "- **賣價**: 1065.0\n",
            "- **賣量**: 303\n",
            "- **開盤價**: 1075.0\n",
            "- **最高價**: 1080.0\n",
            "- **最低價**: 1060.0\n",
            "- **昨收價**: 1080.0\n",
            "\n",
            "從這些數據可以看出，台積電的股價在最近一段時間內出現了下跌，並且成交量相對較高，這可能表明市場對其股票的關注度增加。接下來，我們可以進一步分析其財報和業績表現，以獲得更深入的見解。請問您需要我進一步查詢台積電的財報內容嗎？\n",
            "\n",
            "\n",
            "[plan]\n",
            "1. 檢視相關新聞和市場分析師的評價。\n",
            "2. 考慮整體股市的走勢和經濟指標。\n",
            "3. 根據以上資訊評估進場的風險和潛在收益。\n",
            "4. 做出是否進場的決策。\n",
            "\n",
            "\n",
            "[Tool name] tavily_search_results_json\n",
            "[past_steps]\n",
            "檢視相關新聞和市場分析師的評價。\n",
            "以下是關於台積電的最新新聞和市場分析師的評價：\n",
            "\n",
            "1. **外資在「壓低吃貨」？分析師曝台積電「關鍵價位」**\n",
            "   - 分析師詹家鴻指出，儘管市場對台積電的前景相對保守，外資機構紛紛下調目標價，包括高盛將台積電目標價從1,400元調整為1,200元；花旗從1,400元下調至1,050元。\n",
            "   - [閱讀更多](https://tw.stock.yahoo.com/news/%E5%A4%96%E8%B3%87%E5%9C%A8-%E5%A3%93%E4%BD%8E%E5%90%83%E8%B2%A8-%E5%88%86%E6%9E%90%E5%B8%AB%E6%9B%9D%E5%8F%B0%E7%A9%8D%E9%9B%BB-%E9%97%9C%E9%8D%B5%E5%83%B9%E4%BD%8D-%E4%BD%8E%E6%96%BC%E8%A9%B2%E5%83%B9%E4%BD%8D%E5%8F%AF%E7%A9%8D%E6%A5%B5%E8%B2%B7%E5%85%A5-081000018.html)\n",
            "\n",
            "2. **台積電上榜！外媒推2檔「怪物級」股票未來10年優勢無敵**\n",
            "   - 分析師認為，即使近期市場波動加劇，但也不應該錯過優質股票。台積電與亞馬遜已分別在各自的領域確立領先地位，並且持續憑藉競爭優勢超越對手。對於眼光長遠的投資者來說，持有這兩家公司的股票，可望在未來獲得相當可觀的投資回報。\n",
            "   - [閱讀更多](https://tw.stock.yahoo.com/news/%E5%8F%B0%E7%A9%8D%E9%9B%BB%E4%B8%8A%E6%A6%9C-%E5%A4%96%E5%AA%92%E6%8E%A82%E6%AA%94-%E6%80%AA%E7%89%A9%E7%B4%9A-%E8%82%A1%E7%A5%A8-%E6%9C%AA%E4%BE%8610%E5%B9%B4%E5%84%AA%E5%8B%A2%E7%84%A1%E6%95%B5-034326395.html)\n",
            "\n",
            "3. **美國分析師也看好台積電！4理由籲投資人「拼命買」**\n",
            "   - 分析師卓利（Keithen Drury）表示，台積電是他目前最看好的股票之一，幾乎每一項科技的根源都能追溯到其晶片。他強調，投資人應該積極買入台積電的股票。\n",
            "   - [閱讀更多](https://www.storm.mg/article/11040979)\n",
            "\n",
            "這些資訊顯示，雖然有些分析師對台積電的短期前景持保守態度，但長期來看，仍有許多專家看好其潛力，特別是在人工智慧和高科技領域的發展中。接下來可以進行第二步，考慮整體股市的走勢和經濟指標。\n",
            "\n",
            "\n",
            "[plan]\n",
            "1. 考慮整體股市的走勢和經濟指標。\n",
            "2. 根據以上資訊評估進場的風險和潛在收益。\n",
            "3. 做出是否進場的決策。\n",
            "\n",
            "\n",
            "[Tool name] tavily_search_results_json[Tool name] tavily_search_results_json\n",
            "\n",
            "[past_steps]\n",
            "考慮整體股市的走勢和經濟指標。\n",
            "### 整體股市走勢\n",
            "\n",
            "1. **股市走勢分析**:\n",
            "   - 目前股市的整體走勢受到多種因素影響，包括經濟指標、政策變化及市場情緒等。專家建議投資者應密切關注即時股市走勢、期貨價格及匯率變化，以便做出更明智的投資決策。\n",
            "   - 相關資源:\n",
            "     - [如何評估市場的整體趨勢 - 免費選股](http://www.tapsb.org.tw/app/%E5%A6%82%E4%BD%95%E8%A9%95%E4%BC%B0%E5%B8%82%E5%A0%B4%E7%9A%84%E6%95%B4%E9%AB%94%E8%B6%A8%E5%8B%A2)\n",
            "     - [如何評估市場的整體趨勢 - 免費股票市場入門教學](https://www.eastvision.com.tw/video/%E5%A6%82%E4%BD%95%E8%A9%95%E4%BC%B0%E5%B8%82%E5%A0%B4%E7%9A%84%E6%95%B4%E9%AB%94%E8%B6%A8%E5%8B%A2)\n",
            "\n",
            "### 經濟指標\n",
            "\n",
            "1. **經濟指標的定義**:\n",
            "   - 經濟指標是用來衡量經濟狀況的數據，幫助分析師和政策制定者了解當前的經濟狀況並預測未來的經濟表現。常見的經濟指標包括失業率、GDP增長、通脹率等。\n",
            "   - 相關資源:\n",
            "     - [經濟指標的定義](http://www.vantagemarkets.com/hant/terminology/economic-indicator-definition/)\n",
            "     - [經濟指標 - 維基百科](https://zh.wikipedia.org/zh-hant/%E7%B6%93%E6%BF%9F%E6%8C%87%E6%A8%99)\n",
            "\n",
            "### 總結\n",
            "整體股市的走勢和經濟指標都顯示出市場的波動性和不確定性。投資者在進行決策時，應該考慮這些因素，以評估進場的風險和潛在收益。接下來的步驟是根據這些資訊進行風險和收益的評估。\n",
            "\n",
            "\n",
            "[plan]\n",
            "1. 根據台積電的最新股價、業績表現、相關新聞及市場分析，評估進場的風險和潛在收益。\n",
            "2. 根據風險和收益的評估，做出是否進場的決策。\n",
            "\n",
            "\n",
            "[Tool name] getMainBuyAndSale[Tool name] tavily_search_results_json\n",
            "\n"
          ]
        },
        {
          "output_type": "stream",
          "name": "stderr",
          "text": [
            "/tmp/ipython-input-44-2297184055.py:11: FutureWarning: Passing literal html to 'read_html' is deprecated and will be removed in a future version. To read from a literal string, wrap it in a 'StringIO' object.\n",
            "  data = pd.read_html(resp.text)\n"
          ]
        },
        {
          "output_type": "stream",
          "name": "stdout",
          "text": [
            "[past_steps]\n",
            "根據台積電的最新股價、業績表現、相關新聞及市場分析，評估進場的風險和潛在收益。\n",
            "### 台積電最新股價及業績表現\n",
            "\n",
            "1. **股價資訊**:\n",
            "   - 最新股價: 1060.0 元\n",
            "   - 最高價: 1080.0 元\n",
            "   - 最低價: 1060.0 元\n",
            "   - 成交量: 32327 股\n",
            "\n",
            "2. **業績表現**:\n",
            "   - 2025年第一季財報顯示，營收為255.3億美元，同比增長41.6%。\n",
            "   - 營業利潤為123.8億美元，同比增長56.1%。\n",
            "\n",
            "### 相關新聞及市場分析\n",
            "\n",
            "1. **市場預測**:\n",
            "   - 根據分析，台積電在未來幾年內的EPS（每股盈餘）預測持續增長，2025年預計達到68.23元，2026年79.56元，2027年84.56元。\n",
            "   - 目前市場對於台積電的評價普遍偏向樂觀，分析師給予的目標價範圍在939元至1575元之間。\n",
            "\n",
            "2. **行業趨勢**:\n",
            "   - 台積電在全球半導體市場中佔有超過50%的市場份額，未來幾年隨著AI和5G技術的發展，需求預計將持續增長。\n",
            "   - 近期的市場分析指出，台積電的業務增長受到全球經濟復甦的推動，特別是在中國市場的需求回暖。\n",
            "\n",
            "3. **風險因素**:\n",
            "   - 全球經濟不確定性及供應鏈問題可能影響台積電的生產能力。\n",
            "   - 競爭對手的技術進步及市場份額的爭奪也可能對台積電造成壓力。\n",
            "\n",
            "### 風險與潛在收益評估\n",
            "\n",
            "- **潛在收益**:\n",
            "  - 隨著業績增長和市場需求的提升，台積電的股價有潛力上漲，尤其是在未來幾年內。\n",
            "  - 若股價達到分析師的高預測目標（1575元），將帶來顯著的資本利得。\n",
            "\n",
            "- **風險**:\n",
            "  - 若全球經濟放緩或供應鏈問題持續，可能會影響台積電的業績表現，導致股價下跌。\n",
            "  - 競爭加劇可能會壓縮利潤空間，影響未來的股東回報。\n",
            "\n",
            "### 結論\n",
            "\n",
            "根據以上分析，台積電在未來幾年內的潛在收益相對較高，但同時也存在一定的風險。投資者需根據自身的風險承受能力和市場動態做出進場決策。\n",
            "\n",
            "\n",
            "[response]\n",
            "根據目前的分析，台積電的股價在1060元，近期業績表現良好，並且市場對其長期潛力持樂觀態度。然而，仍需考慮全球經濟不確定性及競爭壓力等風險因素。綜合考量，若您能承受一定的風險，明天進場台積電可能是一個不錯的選擇，特別是長期投資的角度。建議您根據自身的風險承受能力做出最終決策。\n",
            "\n",
            "\n"
          ]
        }
      ],
      "source": [
        "config = {\"recursion_limit\": 50,\n",
        "          \"callbacks\":[PrintToolNameHandler()]}\n",
        "inputs = {\"input\": \"明天適合進場台積電嗎?\"}\n",
        "\n",
        "async for event in graph.astream(inputs, config=config):\n",
        "    for k, v in event.items():\n",
        "        if k != \"__end__\":\n",
        "            for step in v.keys():\n",
        "              if step == \"plan\":\n",
        "                print(f\"[{step}]\")\n",
        "                for idx, action in enumerate(v[step]):\n",
        "                  print(f\"{idx+1}. {action}\")\n",
        "\n",
        "              elif step == \"past_steps\":\n",
        "                print(f\"[{step}]\")\n",
        "                for action in v[step][0]:\n",
        "                  print(action)\n",
        "\n",
        "              else:\n",
        "                print(f\"[{step}]\")\n",
        "                print(v[step])\n",
        "    print('\\n')"
      ]
    }
  ],
  "metadata": {
    "colab": {
      "provenance": [],
      "include_colab_link": true
    },
    "kernelspec": {
      "display_name": "Python 3",
      "name": "python3"
    },
    "language_info": {
      "name": "python"
    }
  },
  "nbformat": 4,
  "nbformat_minor": 0
}